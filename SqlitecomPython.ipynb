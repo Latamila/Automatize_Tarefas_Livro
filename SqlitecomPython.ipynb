{
  "nbformat": 4,
  "nbformat_minor": 0,
  "metadata": {
    "colab": {
      "provenance": [],
      "authorship_tag": "ABX9TyM+ilyXEhf0+8s0TegGGOzz",
      "include_colab_link": true
    },
    "kernelspec": {
      "name": "python3",
      "display_name": "Python 3"
    },
    "language_info": {
      "name": "python"
    }
  },
  "cells": [
    {
      "cell_type": "markdown",
      "metadata": {
        "id": "view-in-github",
        "colab_type": "text"
      },
      "source": [
        "<a href=\"https://colab.research.google.com/github/Latamila/Automatize_Tarefas_Livro/blob/main/SqlitecomPython.ipynb\" target=\"_parent\"><img src=\"https://colab.research.google.com/assets/colab-badge.svg\" alt=\"Open In Colab\"/></a>"
      ]
    },
    {
      "cell_type": "code",
      "source": [
        "import sqlite3\n",
        "\n",
        "conn = sqlite3.connect('meubancodedados.db')\n",
        "\n",
        "#criar um objeto cursor para executar comandos SQL\n",
        "cursor = conn.cursor()"
      ],
      "metadata": {
        "id": "AE83MT6kUk_x"
      },
      "execution_count": 1,
      "outputs": []
    },
    {
      "cell_type": "markdown",
      "source": [
        "---\n",
        " Create (Criar):\n",
        "\n",
        "Vamos criar uma tabela e inserir alguns dados nela:"
      ],
      "metadata": {
        "id": "juOXQb-bU86w"
      }
    },
    {
      "cell_type": "code",
      "source": [
        "#criar uma nova tabela\n",
        "cursor.execute('''\n",
        "    CREATE TABLE IF NOT EXISTS usuarios (\n",
        "        id INTEGER PRIMARY KEY,\n",
        "        nome TEXT NOT NULL,\n",
        "        idade INTEGER\n",
        "    )\n",
        "''')\n",
        "\n",
        "#inserir dados na tabela\n",
        "cursor.execute('''INSERT INTO usuarios (nome, idade) VALUES ('João', 25)''')\n",
        "cursor.execute('''INSERT INTO usuarios (nome, idade) VALUES ('Bob', 30)''')\n",
        "cursor.execute('''INSERT INTO usuarios (nome, idade) VALUES ('Alice', 27)''')\n",
        "cursor.execute('''INSERT INTO usuarios (nome, idade) VALUES ('Carem', 35)''')\n",
        "cursor.execute('''INSERT INTO usuarios (nome, idade) VALUES ('Mateus', 15)''')\n",
        "cursor.execute('''INSERT INTO usuarios (nome, idade) VALUES ('Alexandre', 40)''')\n",
        "\n",
        "#Commit (salvar) as alterações\n",
        "conn.commit()"
      ],
      "metadata": {
        "id": "BrEkyBZ8U4k5"
      },
      "execution_count": 2,
      "outputs": []
    },
    {
      "cell_type": "markdown",
      "source": [
        "2. Read (Ler):\n",
        "---\n",
        "Ler dados da tabela:"
      ],
      "metadata": {
        "id": "_7OGN8ahWMZQ"
      }
    },
    {
      "cell_type": "code",
      "source": [
        "#selecionar e ler dados\n",
        "\n",
        "cursor.execute('''SELECT * FROM usuarios''')\n",
        "usuarios = cursor.fetchall()\n",
        "\n",
        "for usuario in usuarios:\n",
        "    print(usuario)"
      ],
      "metadata": {
        "colab": {
          "base_uri": "https://localhost:8080/"
        },
        "id": "FDtoNld9WD8H",
        "outputId": "eb51360a-e002-4e3b-bc4a-88b33e2cdf63"
      },
      "execution_count": 3,
      "outputs": [
        {
          "output_type": "stream",
          "name": "stdout",
          "text": [
            "(1, 'João', 25)\n",
            "(2, 'Bob', 30)\n",
            "(3, 'Alice', 27)\n",
            "(4, 'Carem', 35)\n",
            "(5, 'Mateus', 15)\n",
            "(6, 'Alexandre', 40)\n"
          ]
        }
      ]
    },
    {
      "cell_type": "markdown",
      "source": [
        "3. **Update (Atualizar):**\n",
        "---\n",
        "Atualizar dados de um usuário:"
      ],
      "metadata": {
        "id": "lxNLcJCJWtoJ"
      }
    },
    {
      "cell_type": "code",
      "source": [
        "# Atualizar a idade do usuário Bob\n",
        "cursor.execute('''UPDATE usuarios SET idade = 26 WHERE nome = 'Bob' ''')\n",
        "\n",
        "# Commit as alterações\n",
        "conn.commit()"
      ],
      "metadata": {
        "id": "6QO5DCcYWZgu"
      },
      "execution_count": 4,
      "outputs": []
    },
    {
      "cell_type": "code",
      "source": [
        "cursor.execute('''SELECT * FROM usuarios''')\n",
        "usuarios = cursor.fetchall()\n",
        "\n",
        "for linha in usuarios:\n",
        "    print(linha)"
      ],
      "metadata": {
        "colab": {
          "base_uri": "https://localhost:8080/"
        },
        "id": "if20mlY3W8jy",
        "outputId": "d8915e6d-819c-4d03-9693-6f29b899594d"
      },
      "execution_count": 5,
      "outputs": [
        {
          "output_type": "stream",
          "name": "stdout",
          "text": [
            "(1, 'João', 25)\n",
            "(2, 'Bob', 26)\n",
            "(3, 'Alice', 27)\n",
            "(4, 'Carem', 35)\n",
            "(5, 'Mateus', 15)\n",
            "(6, 'Alexandre', 40)\n"
          ]
        }
      ]
    },
    {
      "cell_type": "markdown",
      "source": [
        "4. Delete (Deletar):\n",
        "---\n",
        "Deletar um usuário da tabela:"
      ],
      "metadata": {
        "id": "ZKAMKZ6sXQAE"
      }
    },
    {
      "cell_type": "code",
      "source": [
        "# Deletar o usuário Alice\n",
        "cursor.execute('''DELETE FROM usuarios WHERE nome = 'Alice' ''')\n",
        "\n",
        "# Commit as alterações\n",
        "conn.commit()"
      ],
      "metadata": {
        "id": "dnvEkD5bXBg-"
      },
      "execution_count": 6,
      "outputs": []
    },
    {
      "cell_type": "code",
      "source": [
        "cursor.execute('''SELECT * FROM usuarios''')\n",
        "usuarios = cursor.fetchall()\n",
        "\n",
        "for linha in usuarios:\n",
        "    print(linha)"
      ],
      "metadata": {
        "colab": {
          "base_uri": "https://localhost:8080/"
        },
        "id": "VzeOscj9XVe8",
        "outputId": "279fe8bf-60ce-4814-d760-d582776f9e9f"
      },
      "execution_count": 7,
      "outputs": [
        {
          "output_type": "stream",
          "name": "stdout",
          "text": [
            "(1, 'João', 25)\n",
            "(2, 'Bob', 26)\n",
            "(4, 'Carem', 35)\n",
            "(5, 'Mateus', 15)\n",
            "(6, 'Alexandre', 40)\n"
          ]
        }
      ]
    },
    {
      "cell_type": "markdown",
      "source": [
        "Fechando a conexão:\n",
        "---\n",
        "Após realizar as operações, é importante fechar a conexão com o banco de dados:"
      ],
      "metadata": {
        "id": "Z0mlNyCFXySA"
      }
    },
    {
      "cell_type": "code",
      "source": [
        "conn.close()"
      ],
      "metadata": {
        "id": "F2EGy71nXXxW"
      },
      "execution_count": 8,
      "outputs": []
    },
    {
      "cell_type": "markdown",
      "source": [
        "***Estes exemplos cobrem as operações básicas CRUD no SQLite usando Python. Lembre-se de que, na prática, você deve adicionar tratamento de erros e considerações de segurança (como evitar a injeção de SQL) para tornar seu código mais robusto e seguro.***"
      ],
      "metadata": {
        "id": "eJTBlI_HYEbj"
      }
    },
    {
      "cell_type": "markdown",
      "source": [
        "Ferramentas para visualizar os registro no banco de dados:\n",
        "\n",
        "Para visualizar dados do SQLite de forma gráfica, você pode usar várias ferramentas e interfaces gráficas de usuário (GUI) disponíveis. Estas ferramentas oferecem uma maneira fácil e interativa de visualizar, gerenciar e manipular seus dados em bancos de dados SQLite. Algumas das opções mais populares incluem:\n",
        "\n",
        "DB Browser for SQLite: É uma ferramenta de código aberto que permite visualizar, editar e criar bancos de dados SQLite. Ela tem uma interface amigável e oferece funcionalidades como a execução de consultas SQL, visualização de tabelas e índices, e exportação de dados. link do site sqlitebrowser.org.\n",
        "\n",
        "\n",
        "\n",
        "SQLiteStudio: Outra ferramenta gratuita e de código aberto para gerenciar bancos de dados SQLite. Oferece uma interface limpa e intuitiva com recursos como editor de SQL com realce de sintaxe, visualizador de dados de tabela, e ferramentas para gerenciamento de banco de dados.\n",
        "\n",
        "\n",
        "\n",
        "DBeaver: Uma ferramenta universal de gerenciamento de banco de dados que suporta SQLite, bem como outros sistemas de gerenciamento de banco de dados. É mais complexa e oferece recursos avançados para usuários que precisam gerenciar múltiplos bancos de dados.\n",
        "\n",
        "Para usar qualquer uma dessas ferramentas, geralmente você só precisa instalar o programa, abrir o arquivo do banco de dados SQLite (geralmente com a extensão .db ou .sqlite) e então você poderá navegar pelas tabelas, executar consultas SQL e visualizar seus dados de forma gráfica. A escolha da ferramenta depende das suas necessidades específicas e se você prefere uma solução gratuita ou paga, com mais recursos avançados.\n",
        "\n"
      ],
      "metadata": {
        "id": "PqmdRoipYdb6"
      }
    },
    {
      "cell_type": "code",
      "source": [],
      "metadata": {
        "id": "grdmhWFiX_ph"
      },
      "execution_count": null,
      "outputs": []
    }
  ]
}