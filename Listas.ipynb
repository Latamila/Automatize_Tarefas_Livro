{
  "nbformat": 4,
  "nbformat_minor": 0,
  "metadata": {
    "colab": {
      "provenance": [],
      "authorship_tag": "ABX9TyMR22Ubq/gav85t6cmRSgnF",
      "include_colab_link": true
    },
    "kernelspec": {
      "name": "python3",
      "display_name": "Python 3"
    },
    "language_info": {
      "name": "python"
    }
  },
  "cells": [
    {
      "cell_type": "markdown",
      "metadata": {
        "id": "view-in-github",
        "colab_type": "text"
      },
      "source": [
        "<a href=\"https://colab.research.google.com/github/Latamila/Automatize_Tarefas_Livro/blob/main/Listas.ipynb\" target=\"_parent\"><img src=\"https://colab.research.google.com/assets/colab-badge.svg\" alt=\"Open In Colab\"/></a>"
      ]
    },
    {
      "cell_type": "code",
      "execution_count": null,
      "metadata": {
        "id": "vl9yMeBDBxoO"
      },
      "outputs": [],
      "source": [
        "lista1 = ['vermelho','azul', 'verde']"
      ]
    },
    {
      "cell_type": "code",
      "source": [
        "def clone(lista):\n",
        "  clone = []\n",
        "  for cor in lista:\n",
        "    clone.append(cor)\n",
        "  return clone"
      ],
      "metadata": {
        "id": "Vtr7x4LSB5iE"
      },
      "execution_count": null,
      "outputs": []
    },
    {
      "cell_type": "code",
      "source": [
        "lista2 = clone(lista1)"
      ],
      "metadata": {
        "id": "DoiCVuJ8CH4a"
      },
      "execution_count": null,
      "outputs": []
    },
    {
      "cell_type": "code",
      "source": [
        "lista2"
      ],
      "metadata": {
        "colab": {
          "base_uri": "https://localhost:8080/"
        },
        "id": "YyGVjhAFCLee",
        "outputId": "609eba1c-a595-4377-f420-24698b0b35ef"
      },
      "execution_count": null,
      "outputs": [
        {
          "output_type": "execute_result",
          "data": {
            "text/plain": [
              "['vermelho', 'azul', 'verde']"
            ]
          },
          "metadata": {},
          "execution_count": 6
        }
      ]
    },
    {
      "cell_type": "code",
      "source": [
        "lista2[0]='rosa'"
      ],
      "metadata": {
        "id": "xZmEzD9QC7Gt"
      },
      "execution_count": null,
      "outputs": []
    },
    {
      "cell_type": "code",
      "source": [
        "print(lista1)\n",
        "print(lista2)"
      ],
      "metadata": {
        "colab": {
          "base_uri": "https://localhost:8080/"
        },
        "id": "cqKkbLdFC-nF",
        "outputId": "d9991ad9-c30d-443f-81be-f094a8a73575"
      },
      "execution_count": null,
      "outputs": [
        {
          "output_type": "stream",
          "name": "stdout",
          "text": [
            "['vermelho', 'azul', 'verde']\n",
            "['rosa', 'azul', 'verde']\n"
          ]
        }
      ]
    },
    {
      "cell_type": "code",
      "source": [
        "'rosa' in lista1"
      ],
      "metadata": {
        "colab": {
          "base_uri": "https://localhost:8080/"
        },
        "id": "BVjT9L3eDAUM",
        "outputId": "b12aceb4-5b14-4c34-f2ae-bfb7baa0da7a"
      },
      "execution_count": null,
      "outputs": [
        {
          "output_type": "execute_result",
          "data": {
            "text/plain": [
              "False"
            ]
          },
          "metadata": {},
          "execution_count": 11
        }
      ]
    },
    {
      "cell_type": "code",
      "source": [
        "'rosa' in lista2"
      ],
      "metadata": {
        "colab": {
          "base_uri": "https://localhost:8080/"
        },
        "id": "lMA4WTHKDJOE",
        "outputId": "d5592259-b829-4ba5-d732-e7ed09eaa0e2"
      },
      "execution_count": null,
      "outputs": [
        {
          "output_type": "execute_result",
          "data": {
            "text/plain": [
              "True"
            ]
          },
          "metadata": {},
          "execution_count": 12
        }
      ]
    },
    {
      "cell_type": "code",
      "source": [
        "if 'rosa' in lista2:\n",
        "  print('Pink')"
      ],
      "metadata": {
        "colab": {
          "base_uri": "https://localhost:8080/"
        },
        "id": "3OwVe0GaDOlY",
        "outputId": "aa8fb159-e25c-439e-ec94-e348995c938b"
      },
      "execution_count": null,
      "outputs": [
        {
          "output_type": "stream",
          "name": "stdout",
          "text": [
            "Pink\n"
          ]
        }
      ]
    },
    {
      "cell_type": "code",
      "source": [
        "if 'azul' in lista1:\n",
        "  print('Blues')"
      ],
      "metadata": {
        "colab": {
          "base_uri": "https://localhost:8080/"
        },
        "id": "gpHaJ6G7DUel",
        "outputId": "92b7fc06-6604-4be3-bee3-f56034660544"
      },
      "execution_count": null,
      "outputs": [
        {
          "output_type": "stream",
          "name": "stdout",
          "text": [
            "Blues\n"
          ]
        }
      ]
    },
    {
      "cell_type": "code",
      "source": [
        "a = [1,2,3]\n",
        "b= [4,5,6]\n",
        "a+b"
      ],
      "metadata": {
        "colab": {
          "base_uri": "https://localhost:8080/"
        },
        "id": "WxFICyuuDcKm",
        "outputId": "9bcfafc0-4b3a-4f8a-9a40-3a5d753f096f"
      },
      "execution_count": null,
      "outputs": [
        {
          "output_type": "execute_result",
          "data": {
            "text/plain": [
              "[1, 2, 3, 4, 5, 6]"
            ]
          },
          "metadata": {},
          "execution_count": 15
        }
      ]
    },
    {
      "cell_type": "code",
      "source": [
        "b+a"
      ],
      "metadata": {
        "colab": {
          "base_uri": "https://localhost:8080/"
        },
        "id": "Li2zIun8EKrP",
        "outputId": "f175157d-f526-4aab-d413-406c34843c62"
      },
      "execution_count": null,
      "outputs": [
        {
          "output_type": "execute_result",
          "data": {
            "text/plain": [
              "[4, 5, 6, 1, 2, 3]"
            ]
          },
          "metadata": {},
          "execution_count": 16
        }
      ]
    },
    {
      "cell_type": "code",
      "source": [
        "c=b+a+b"
      ],
      "metadata": {
        "id": "84SIvigIEL8q"
      },
      "execution_count": null,
      "outputs": []
    },
    {
      "cell_type": "code",
      "source": [
        "a = a+b\n"
      ],
      "metadata": {
        "id": "sUbuN0kdEN8n"
      },
      "execution_count": null,
      "outputs": []
    },
    {
      "cell_type": "code",
      "source": [
        "a"
      ],
      "metadata": {
        "colab": {
          "base_uri": "https://localhost:8080/"
        },
        "id": "YDYnv6L6EToi",
        "outputId": "40449bc2-e052-4eda-91ef-d5c37e7ce671"
      },
      "execution_count": null,
      "outputs": [
        {
          "output_type": "execute_result",
          "data": {
            "text/plain": [
              "[1, 2, 3, 4, 5, 6]"
            ]
          },
          "metadata": {},
          "execution_count": 22
        }
      ]
    },
    {
      "cell_type": "code",
      "source": [
        "a = a+[6]"
      ],
      "metadata": {
        "id": "cAOPB5EnEd6a"
      },
      "execution_count": null,
      "outputs": []
    },
    {
      "cell_type": "code",
      "source": [
        "a"
      ],
      "metadata": {
        "colab": {
          "base_uri": "https://localhost:8080/"
        },
        "id": "5J3ONL5hEpgY",
        "outputId": "5e24ecd3-1d4f-4a74-83d6-eced5cd181d9"
      },
      "execution_count": null,
      "outputs": [
        {
          "output_type": "execute_result",
          "data": {
            "text/plain": [
              "[1, 2, 3, 4, 5, 6, 6]"
            ]
          },
          "metadata": {},
          "execution_count": 24
        }
      ]
    },
    {
      "cell_type": "code",
      "source": [
        "set(a)"
      ],
      "metadata": {
        "colab": {
          "base_uri": "https://localhost:8080/"
        },
        "id": "yrxwwegXEp7X",
        "outputId": "db322fce-3bed-41b9-d93c-0bf4262aa44a"
      },
      "execution_count": null,
      "outputs": [
        {
          "output_type": "execute_result",
          "data": {
            "text/plain": [
              "{1, 2, 3, 4, 5, 6}"
            ]
          },
          "metadata": {},
          "execution_count": 25
        }
      ]
    },
    {
      "cell_type": "code",
      "source": [
        "a"
      ],
      "metadata": {
        "colab": {
          "base_uri": "https://localhost:8080/"
        },
        "id": "-k8wRAYgErGt",
        "outputId": "6a7c43ea-5e31-47a8-924e-6315795b396e"
      },
      "execution_count": null,
      "outputs": [
        {
          "output_type": "execute_result",
          "data": {
            "text/plain": [
              "[1, 2, 3, 4, 5, 6, 6]"
            ]
          },
          "metadata": {},
          "execution_count": 26
        }
      ]
    },
    {
      "cell_type": "code",
      "source": [
        "a_triplicado = a*3"
      ],
      "metadata": {
        "id": "NpMFBInsE09d"
      },
      "execution_count": null,
      "outputs": []
    },
    {
      "cell_type": "code",
      "source": [
        "a_triplicado"
      ],
      "metadata": {
        "colab": {
          "base_uri": "https://localhost:8080/"
        },
        "id": "M0Q1jZbPE58U",
        "outputId": "05ac07f2-bc58-4c04-f9ed-1e47cfd75a85"
      },
      "execution_count": null,
      "outputs": [
        {
          "output_type": "execute_result",
          "data": {
            "text/plain": [
              "[1, 2, 3, 4, 5, 6, 6, 1, 2, 3, 4, 5, 6, 6, 1, 2, 3, 4, 5, 6, 6]"
            ]
          },
          "metadata": {},
          "execution_count": 28
        }
      ]
    },
    {
      "cell_type": "code",
      "source": [
        "len(a_triplicado)"
      ],
      "metadata": {
        "colab": {
          "base_uri": "https://localhost:8080/"
        },
        "id": "ZX0gnwpEE67I",
        "outputId": "d8be8a67-de6b-4ed3-b44b-c08dfe4f9348"
      },
      "execution_count": null,
      "outputs": [
        {
          "output_type": "execute_result",
          "data": {
            "text/plain": [
              "21"
            ]
          },
          "metadata": {},
          "execution_count": 29
        }
      ]
    },
    {
      "cell_type": "code",
      "source": [
        "len(set(a_triplicado))"
      ],
      "metadata": {
        "colab": {
          "base_uri": "https://localhost:8080/"
        },
        "id": "vmv5jLnOE9L7",
        "outputId": "1ec66696-63d3-47ba-a32f-e38a40a59327"
      },
      "execution_count": null,
      "outputs": [
        {
          "output_type": "execute_result",
          "data": {
            "text/plain": [
              "6"
            ]
          },
          "metadata": {},
          "execution_count": 30
        }
      ]
    },
    {
      "cell_type": "code",
      "source": [
        "del a[1]"
      ],
      "metadata": {
        "id": "uTRg6JASFAMz"
      },
      "execution_count": null,
      "outputs": []
    },
    {
      "cell_type": "code",
      "source": [
        "a"
      ],
      "metadata": {
        "colab": {
          "base_uri": "https://localhost:8080/"
        },
        "id": "JS6np6MkNyHh",
        "outputId": "e1839689-b074-4d1d-d546-3f1c66e80610"
      },
      "execution_count": null,
      "outputs": [
        {
          "output_type": "execute_result",
          "data": {
            "text/plain": [
              "[1, 3, 4, 5, 6, 6]"
            ]
          },
          "metadata": {},
          "execution_count": 32
        }
      ]
    },
    {
      "cell_type": "code",
      "source": [
        "del a[1:3]"
      ],
      "metadata": {
        "id": "4XG296FBNydi"
      },
      "execution_count": null,
      "outputs": []
    },
    {
      "cell_type": "code",
      "source": [
        "a"
      ],
      "metadata": {
        "colab": {
          "base_uri": "https://localhost:8080/"
        },
        "id": "TryxWjrMOBVF",
        "outputId": "30dc0c0d-a7cc-4a7c-99bd-2da905ad6b80"
      },
      "execution_count": null,
      "outputs": [
        {
          "output_type": "execute_result",
          "data": {
            "text/plain": [
              "[1, 5, 6, 6]"
            ]
          },
          "metadata": {},
          "execution_count": 35
        }
      ]
    },
    {
      "cell_type": "code",
      "source": [
        "alfabeto = [\"a\", \"b\", \"c\", \"d\", \"e\", \"f\", \"g\", \"h\", \"i\", \"j\", \"k\", \"l\", \"m\", \"n\", \"o\", \"p\", \"q\", \"r\", \"s\", \"t\", \"u\", \"v\", \"w\", \"x\", \"y\", \"z\"]"
      ],
      "metadata": {
        "id": "QJAVb5zgODtR"
      },
      "execution_count": null,
      "outputs": []
    },
    {
      "cell_type": "code",
      "source": [
        "alfabeto[13:27]"
      ],
      "metadata": {
        "colab": {
          "base_uri": "https://localhost:8080/"
        },
        "id": "-mHM4dBDPwwE",
        "outputId": "bd934393-2c77-41a1-dc49-f7e2f48f44eb"
      },
      "execution_count": null,
      "outputs": [
        {
          "output_type": "execute_result",
          "data": {
            "text/plain": [
              "['n', 'o', 'p', 'q', 'r', 's', 't', 'u', 'v', 'w', 'x', 'y', 'z']"
            ]
          },
          "metadata": {},
          "execution_count": 37
        }
      ]
    },
    {
      "cell_type": "code",
      "source": [
        "alfabeto[1:10]"
      ],
      "metadata": {
        "colab": {
          "base_uri": "https://localhost:8080/"
        },
        "id": "58uiR5cLPzpL",
        "outputId": "2bc5f21a-61b0-43da-9064-aac7d2f994dd"
      },
      "execution_count": null,
      "outputs": [
        {
          "output_type": "execute_result",
          "data": {
            "text/plain": [
              "['b', 'c', 'd', 'e', 'f', 'g', 'h', 'i', 'j']"
            ]
          },
          "metadata": {},
          "execution_count": 38
        }
      ]
    },
    {
      "cell_type": "code",
      "source": [
        "carnes = [\"picanha\", \"alcatra\", \"filé mignon\", \"cupim\"]\n",
        "carnes2 = carnes[:]\n",
        "carnes2.append('ponta')\n",
        "print(carnes)\n",
        "print(carnes2)"
      ],
      "metadata": {
        "colab": {
          "base_uri": "https://localhost:8080/"
        },
        "id": "6BxMAIyjP6Jh",
        "outputId": "0ec7aae0-6788-473b-aa41-21c3b8f41e6d"
      },
      "execution_count": null,
      "outputs": [
        {
          "output_type": "stream",
          "name": "stdout",
          "text": [
            "['picanha', 'alcatra', 'filé mignon', 'cupim']\n",
            "['picanha', 'alcatra', 'filé mignon', 'cupim', 'ponta']\n"
          ]
        }
      ]
    },
    {
      "cell_type": "code",
      "source": [
        "carnes1 = [\"picanha\", \"alcatra\"]\n",
        "carnes2 = [\"filé mignon\", \"cupim\", \"ponta de alcatra\"]\n",
        "carnes3 = carnes2 + carnes1\n",
        "print(carnes3)"
      ],
      "metadata": {
        "colab": {
          "base_uri": "https://localhost:8080/"
        },
        "id": "KWw8lNkGQ4LM",
        "outputId": "e466e970-6dce-4b77-a854-b71caab80053"
      },
      "execution_count": null,
      "outputs": [
        {
          "output_type": "stream",
          "name": "stdout",
          "text": [
            "['filé mignon', 'cupim', 'ponta de alcatra', 'picanha', 'alcatra']\n"
          ]
        }
      ]
    },
    {
      "cell_type": "code",
      "source": [
        "carnes = [\"picanha\", \"alcatra\", \"filé mignon\", \"cupim\"]\n",
        "x = carnes\n",
        "del (x[-1])\n",
        "print(carnes)\n",
        "print(x)"
      ],
      "metadata": {
        "colab": {
          "base_uri": "https://localhost:8080/"
        },
        "id": "roMB55hmRXbe",
        "outputId": "6bf4cd40-77ba-4231-8adb-8ff588d6b183"
      },
      "execution_count": null,
      "outputs": [
        {
          "output_type": "stream",
          "name": "stdout",
          "text": [
            "['picanha', 'alcatra', 'filé mignon']\n",
            "['picanha', 'alcatra', 'filé mignon']\n"
          ]
        }
      ]
    },
    {
      "cell_type": "code",
      "source": [
        "def remove_repetidos(lista):\n",
        "  itens_unicos = list(set(lista))\n",
        "  return sorted(itens_unicos)"
      ],
      "metadata": {
        "id": "QxJ-Ki-aR9bl"
      },
      "execution_count": null,
      "outputs": []
    },
    {
      "cell_type": "code",
      "source": [
        "a = [3,7,12,33,100]"
      ],
      "metadata": {
        "id": "Nj4VzIU-TUl8"
      },
      "execution_count": null,
      "outputs": []
    },
    {
      "cell_type": "code",
      "source": [
        "remove_repetidos(a)"
      ],
      "metadata": {
        "colab": {
          "base_uri": "https://localhost:8080/"
        },
        "id": "maphMGSeTaef",
        "outputId": "39592c90-8db6-4c64-bd38-75ba30af12a8"
      },
      "execution_count": null,
      "outputs": [
        {
          "output_type": "execute_result",
          "data": {
            "text/plain": [
              "[3, 7, 12, 33, 100]"
            ]
          },
          "metadata": {},
          "execution_count": 54
        }
      ]
    },
    {
      "cell_type": "code",
      "source": [
        "def soma_elementos(lista):\n",
        "  soma = sum(a)\n",
        "  return soma"
      ],
      "metadata": {
        "id": "ptP08DRzTcfg"
      },
      "execution_count": null,
      "outputs": []
    },
    {
      "cell_type": "code",
      "source": [
        "soma = sum(a)\n",
        "soma"
      ],
      "metadata": {
        "colab": {
          "base_uri": "https://localhost:8080/"
        },
        "id": "o4CcpA4jU3hk",
        "outputId": "07b7ca9e-9f52-4061-d728-4e6e8ec82794"
      },
      "execution_count": null,
      "outputs": [
        {
          "output_type": "execute_result",
          "data": {
            "text/plain": [
              "155"
            ]
          },
          "metadata": {},
          "execution_count": 56
        }
      ]
    },
    {
      "cell_type": "code",
      "source": [
        "a"
      ],
      "metadata": {
        "colab": {
          "base_uri": "https://localhost:8080/"
        },
        "id": "WcUU72FzU7DI",
        "outputId": "9d406110-0841-42eb-aa82-ca09cbc6ba2d"
      },
      "execution_count": null,
      "outputs": [
        {
          "output_type": "execute_result",
          "data": {
            "text/plain": [
              "[3, 7, 12, 33, 100]"
            ]
          },
          "metadata": {},
          "execution_count": 57
        }
      ]
    },
    {
      "cell_type": "code",
      "source": [
        "b= [1, 2, 3, 4, 5, 6, 6, 1, 2, 3, 4, 5, 6, 6, 1, 2, 3, 4, 5, 6, 6]"
      ],
      "metadata": {
        "id": "kTRZQCvvWV4-"
      },
      "execution_count": null,
      "outputs": []
    },
    {
      "cell_type": "code",
      "source": [
        "b"
      ],
      "metadata": {
        "colab": {
          "base_uri": "https://localhost:8080/"
        },
        "id": "tx9tLnM7WjZ1",
        "outputId": "6b6994a0-0816-41ff-ad00-9802d915e184"
      },
      "execution_count": null,
      "outputs": [
        {
          "output_type": "execute_result",
          "data": {
            "text/plain": [
              "[1, 2, 3, 4, 5, 6, 6, 1, 2, 3, 4, 5, 6, 6, 1, 2, 3, 4, 5, 6, 6]"
            ]
          },
          "metadata": {},
          "execution_count": 59
        }
      ]
    },
    {
      "cell_type": "code",
      "source": [
        "sorted(b)"
      ],
      "metadata": {
        "colab": {
          "base_uri": "https://localhost:8080/"
        },
        "id": "i96uLi7pWlvc",
        "outputId": "34af9bc4-dd7f-40dd-e508-d03de572a896"
      },
      "execution_count": null,
      "outputs": [
        {
          "output_type": "execute_result",
          "data": {
            "text/plain": [
              "[1, 1, 1, 2, 2, 2, 3, 3, 3, 4, 4, 4, 5, 5, 5, 6, 6, 6, 6, 6, 6]"
            ]
          },
          "metadata": {},
          "execution_count": 60
        }
      ]
    },
    {
      "cell_type": "code",
      "source": [
        "def maior_elemento(lista):\n",
        "  lista_ordenada = sorted(lista)\n",
        "  return lista_ordenada[-1]"
      ],
      "metadata": {
        "id": "7eRuCVYIWn-1"
      },
      "execution_count": null,
      "outputs": []
    },
    {
      "cell_type": "code",
      "source": [
        "maior_elemento(b)"
      ],
      "metadata": {
        "colab": {
          "base_uri": "https://localhost:8080/"
        },
        "id": "t3mafhfVW17g",
        "outputId": "f5bd56cf-bf12-44a1-c048-d6e8cadb516c"
      },
      "execution_count": null,
      "outputs": [
        {
          "output_type": "execute_result",
          "data": {
            "text/plain": [
              "6"
            ]
          },
          "metadata": {},
          "execution_count": 62
        }
      ]
    },
    {
      "cell_type": "code",
      "source": [
        "maior_elemento(a)"
      ],
      "metadata": {
        "colab": {
          "base_uri": "https://localhost:8080/"
        },
        "id": "cai79NfEW4EE",
        "outputId": "2ae6e33b-b05b-4b28-8e7a-2717201b6474"
      },
      "execution_count": null,
      "outputs": [
        {
          "output_type": "execute_result",
          "data": {
            "text/plain": [
              "100"
            ]
          },
          "metadata": {},
          "execution_count": 63
        }
      ]
    },
    {
      "cell_type": "code",
      "source": [
        "c= [1,25,68,958,62,31,0,1,52]"
      ],
      "metadata": {
        "id": "MB0QxZsHW51o"
      },
      "execution_count": null,
      "outputs": []
    },
    {
      "cell_type": "code",
      "source": [
        "maior_elemento(c)"
      ],
      "metadata": {
        "colab": {
          "base_uri": "https://localhost:8080/"
        },
        "id": "K9xqXUvMW_Nx",
        "outputId": "43ee3939-7c02-4cf9-d4c3-4666a1bacad7"
      },
      "execution_count": null,
      "outputs": [
        {
          "output_type": "execute_result",
          "data": {
            "text/plain": [
              "958"
            ]
          },
          "metadata": {},
          "execution_count": 65
        }
      ]
    },
    {
      "cell_type": "code",
      "source": [
        "def inverte():\n",
        "  m = 1\n",
        "  lista = []\n",
        "  while m != 0:\n",
        "    n = int(input('digite um numero: '))\n",
        "    lista.append(n)\n",
        "    m=n\n",
        "  reversa = list(reversed(lista))\n",
        "  for i in range(1,len(reversa)):\n",
        "    print(reversa[i])"
      ],
      "metadata": {
        "id": "KmaG-Dn2XAnE"
      },
      "execution_count": 99,
      "outputs": []
    },
    {
      "cell_type": "code",
      "source": [
        "inverte()"
      ],
      "metadata": {
        "colab": {
          "base_uri": "https://localhost:8080/"
        },
        "id": "BLOpdT4uncEh",
        "outputId": "0d37c6f9-f3d4-4d8e-8cb1-7b638bfac22a"
      },
      "execution_count": 100,
      "outputs": [
        {
          "output_type": "stream",
          "name": "stdout",
          "text": [
            "digite um numero: 45\n",
            "digite um numero: 56\n",
            "digite um numero: 32\n",
            "digite um numero: 21\n",
            "digite um numero: 0\n",
            "21\n",
            "32\n",
            "56\n",
            "45\n"
          ]
        }
      ]
    },
    {
      "cell_type": "code",
      "source": [
        "supplies = ['pens', 'staplers', 'flame-throwers', 'binders']"
      ],
      "metadata": {
        "id": "1aRZbUVkpGST"
      },
      "execution_count": 101,
      "outputs": []
    },
    {
      "cell_type": "code",
      "source": [
        "for i in range(len(supplies)):\n",
        "  print(f'Index {i} in supplies is: {supplies[i]}')"
      ],
      "metadata": {
        "colab": {
          "base_uri": "https://localhost:8080/"
        },
        "id": "aO0HwP7Qqziy",
        "outputId": "506a3f93-46a1-4aea-ca04-2569d6baa1fc"
      },
      "execution_count": 102,
      "outputs": [
        {
          "output_type": "stream",
          "name": "stdout",
          "text": [
            "Index 0 in supplies is: pens\n",
            "Index 1 in supplies is: staplers\n",
            "Index 2 in supplies is: flame-throwers\n",
            "Index 3 in supplies is: binders\n"
          ]
        }
      ]
    },
    {
      "cell_type": "markdown",
      "source": [
        "#Operadores in e not in\n",
        "\n",
        "Podemos determinar se um valor está ou não em uma lista usando os operadores in e not in.\n",
        "\n",
        "Assim como os demais operadores, in e not in são\n",
        "usados em expressões e associam dois valores: um valor a ser procurado em\n",
        "uma lista e a lista em que esse valor poderá ser encontrado. Essas expressões\n",
        "serão avaliadas como um *valor booleano*.\n"
      ],
      "metadata": {
        "id": "hKdNfLp4rO3d"
      }
    },
    {
      "cell_type": "code",
      "source": [
        "'vermelho' in ['verde','azul','branco','vermelho','rosa']"
      ],
      "metadata": {
        "colab": {
          "base_uri": "https://localhost:8080/"
        },
        "id": "jeH6etdirBMu",
        "outputId": "b93bef97-2e74-4f57-db2b-e4672e68450c"
      },
      "execution_count": 103,
      "outputs": [
        {
          "output_type": "execute_result",
          "data": {
            "text/plain": [
              "True"
            ]
          },
          "metadata": {},
          "execution_count": 103
        }
      ]
    },
    {
      "cell_type": "code",
      "source": [
        "cores = ['verde','azul','branco','vermelho','rosa']"
      ],
      "metadata": {
        "id": "FHR12YV8rrok"
      },
      "execution_count": 104,
      "outputs": []
    },
    {
      "cell_type": "code",
      "source": [
        "'roxo' in cores"
      ],
      "metadata": {
        "colab": {
          "base_uri": "https://localhost:8080/"
        },
        "id": "843nSJqQrwll",
        "outputId": "b0f815d5-b45c-4172-e187-bdd73319b004"
      },
      "execution_count": 105,
      "outputs": [
        {
          "output_type": "execute_result",
          "data": {
            "text/plain": [
              "False"
            ]
          },
          "metadata": {},
          "execution_count": 105
        }
      ]
    },
    {
      "cell_type": "code",
      "source": [
        "'vermelho' not in cores"
      ],
      "metadata": {
        "colab": {
          "base_uri": "https://localhost:8080/"
        },
        "id": "E0amPkoPr0GO",
        "outputId": "ac814d4d-e5b5-479e-e1ee-fc9905e0ac88"
      },
      "execution_count": 106,
      "outputs": [
        {
          "output_type": "execute_result",
          "data": {
            "text/plain": [
              "False"
            ]
          },
          "metadata": {},
          "execution_count": 106
        }
      ]
    },
    {
      "cell_type": "code",
      "source": [
        "'roxo' not in cores"
      ],
      "metadata": {
        "colab": {
          "base_uri": "https://localhost:8080/"
        },
        "id": "UPv0nssur5Yr",
        "outputId": "271c8e50-ea8b-4379-c047-db7cb12e1570"
      },
      "execution_count": 107,
      "outputs": [
        {
          "output_type": "execute_result",
          "data": {
            "text/plain": [
              "True"
            ]
          },
          "metadata": {},
          "execution_count": 107
        }
      ]
    },
    {
      "cell_type": "markdown",
      "source": [
        "Por exemplo, o programa a seguir permite que o usuário digite o nome de\n",
        "um bichinho de estimação e, em seguida, verifique se o nome está em uma\n",
        "lista de bichinhos de estimação."
      ],
      "metadata": {
        "id": "NpeB7fFusC3N"
      }
    },
    {
      "cell_type": "code",
      "source": [
        "meus_bichos = ['Puff','Srek','Poka']\n",
        "print('Entre com um nome de bicho: ')\n",
        "name = input()\n",
        "if name not in meus_bichos:\n",
        "  print(f'Amanda não tem um bicho chamado {name}')\n",
        "else:\n",
        "  print(f'{name} é um bichinho da Amanda')"
      ],
      "metadata": {
        "colab": {
          "base_uri": "https://localhost:8080/"
        },
        "id": "HsKbs1qDr984",
        "outputId": "c4e90c61-379a-418c-d531-36c357b95671"
      },
      "execution_count": 108,
      "outputs": [
        {
          "output_type": "stream",
          "name": "stdout",
          "text": [
            "Entre com um nome de bicho: \n",
            "Srek\n",
            "Srek é um bichinho da Amanda\n"
          ]
        }
      ]
    },
    {
      "cell_type": "markdown",
      "source": [
        "#Truque da atribuição múltipla\n",
        "\n",
        "O truque da atribuição múltipla é um atalho que permite atribuir os valores\n",
        "de uma lista a diversas variáveis em uma única linha de código. Desse modo,\n",
        "em vez de implementar"
      ],
      "metadata": {
        "id": "yey3UB7HszIl"
      }
    },
    {
      "cell_type": "code",
      "source": [],
      "metadata": {
        "id": "8TyD7qc6ssYU"
      },
      "execution_count": null,
      "outputs": []
    }
  ]
}